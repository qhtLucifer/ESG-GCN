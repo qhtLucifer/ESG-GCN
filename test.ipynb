{
 "cells": [
  {
   "cell_type": "code",
   "execution_count": 1,
   "id": "f82c7cb5-8051-4226-8d1b-ba5ef605bdb3",
   "metadata": {},
   "outputs": [],
   "source": [
    "from model.ESRGCN import ESRGCN"
   ]
  },
  {
   "cell_type": "code",
   "execution_count": 2,
   "id": "df8bfe95-0991-4497-80e0-0fb09b5ff48b",
   "metadata": {},
   "outputs": [],
   "source": [
    "from args import parse_args\n",
    "_,args = parse_args()\n",
    "model = ESRGCN(args)"
   ]
  },
  {
   "cell_type": "code",
   "execution_count": 3,
   "id": "af79a092-e2b8-4392-a0b5-de0ea1b11f7c",
   "metadata": {},
   "outputs": [],
   "source": [
    "import torch"
   ]
  },
  {
   "cell_type": "code",
   "execution_count": 34,
   "id": "ba9899dd-57e5-429e-ba3a-a4b497e41c85",
   "metadata": {},
   "outputs": [],
   "source": [
    "test_inputs = torch.rand((8, 15,25,3))\n",
    "a = torch.zeros(8,40, 25,3).float()\n",
    "test_inputs = torch.cat([test_inputs,a], dim = 1)"
   ]
  },
  {
   "cell_type": "code",
   "execution_count": 35,
   "id": "30494390-14e2-4e2e-a2f8-cd95dc70eb23",
   "metadata": {},
   "outputs": [
    {
     "name": "stdout",
     "output_type": "stream",
     "text": [
      "torch.Size([8, 55, 25, 5])\n",
      "torch.Size([8, 25, 5])\n",
      "torch.Size([8, 55, 25, 8])\n",
      "torch.Size([8, 1375, 8])\n"
     ]
    },
    {
     "name": "stderr",
     "output_type": "stream",
     "text": [
      "/Users/antony/opt/anaconda3/envs/DL/lib/python3.10/site-packages/torch/nn/modules/container.py:217: UserWarning: Implicit dimension choice for softmax has been deprecated. Change the call to include dim=X as an argument.\n",
      "  input = module(input)\n"
     ]
    },
    {
     "data": {
      "text/plain": [
       "torch.Size([8, 1375, 120])"
      ]
     },
     "execution_count": 35,
     "metadata": {},
     "output_type": "execute_result"
    }
   ],
   "source": [
    "model(test_inputs).shape"
   ]
  },
  {
   "cell_type": "code",
   "execution_count": 36,
   "id": "55167537-cfd9-4d85-839e-a5715a9afa57",
   "metadata": {},
   "outputs": [
    {
     "data": {
      "text/plain": [
       "torch.Size([16, 12, 25, 1])"
      ]
     },
     "execution_count": 36,
     "metadata": {},
     "output_type": "execute_result"
    }
   ],
   "source": [
    "torch.arange(1,13).unsqueeze(-1).unsqueeze(-1).unsqueeze(0).repeat(16,1,25,1).shape"
   ]
  },
  {
   "cell_type": "code",
   "execution_count": 37,
   "id": "7eb978f1-5ed8-442d-b9a4-66742bfe0d44",
   "metadata": {},
   "outputs": [
    {
     "data": {
      "text/plain": [
       "torch.Size([24000])"
      ]
     },
     "execution_count": 37,
     "metadata": {},
     "output_type": "execute_result"
    }
   ],
   "source": [
    "test_inputs[test_inputs == 0].shape"
   ]
  },
  {
   "cell_type": "code",
   "execution_count": 44,
   "id": "3d851a28-b86e-4744-8e7b-5c6a5aa23ce4",
   "metadata": {},
   "outputs": [],
   "source": [
    "data_seq = [i for i in range(test_inputs.shape[1]) if not torch.any(test_inputs[:,i,:,:])]"
   ]
  },
  {
   "cell_type": "code",
   "execution_count": 50,
   "id": "09e0a962-291f-4ac6-adbd-d204eb7c7ccf",
   "metadata": {},
   "outputs": [
    {
     "data": {
      "text/plain": [
       "(54468, 300, 150)"
      ]
     },
     "execution_count": 50,
     "metadata": {},
     "output_type": "execute_result"
    }
   ],
   "source": [
    "npz_data['x_train'].shape"
   ]
  },
  {
   "cell_type": "code",
   "execution_count": 51,
   "id": "f32d9f9d-f7e0-46fa-a31b-664ef899d9cf",
   "metadata": {},
   "outputs": [],
   "source": [
    "from feeders import feeder_ntu"
   ]
  },
  {
   "cell_type": "code",
   "execution_count": 55,
   "id": "74102992-23c8-43a0-a43f-018f1b9e5a0b",
   "metadata": {},
   "outputs": [],
   "source": [
    "dataset = feeder_ntu.Feeder('data/ntu120/NTU120_CSet_aligned.npz',p_interval= [0.5, 1],)"
   ]
  },
  {
   "cell_type": "code",
   "execution_count": 66,
   "id": "2440562e-2b75-4485-b52d-ffeb467d2703",
   "metadata": {},
   "outputs": [
    {
     "data": {
      "text/plain": [
       "40"
      ]
     },
     "execution_count": 66,
     "metadata": {},
     "output_type": "execute_result"
    }
   ],
   "source": [
    "dataset[100][1]"
   ]
  },
  {
   "cell_type": "code",
   "execution_count": null,
   "id": "e4c2473c-8eaf-4ba2-9770-aea228869855",
   "metadata": {},
   "outputs": [],
   "source": []
  }
 ],
 "metadata": {
  "kernelspec": {
   "display_name": "Python 3 (ipykernel)",
   "language": "python",
   "name": "python3"
  },
  "language_info": {
   "codemirror_mode": {
    "name": "ipython",
    "version": 3
   },
   "file_extension": ".py",
   "mimetype": "text/x-python",
   "name": "python",
   "nbconvert_exporter": "python",
   "pygments_lexer": "ipython3",
   "version": "3.10.12"
  }
 },
 "nbformat": 4,
 "nbformat_minor": 5
}
