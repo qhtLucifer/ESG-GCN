{
 "cells": [
  {
   "cell_type": "code",
   "execution_count": 1,
   "id": "a465f254-49b8-49b8-9d25-896422128c14",
   "metadata": {},
   "outputs": [],
   "source": [
    "import torch"
   ]
  },
  {
   "cell_type": "code",
   "execution_count": 2,
   "id": "5ce5316f-cf25-4bae-baf3-9dc992d17904",
   "metadata": {},
   "outputs": [],
   "source": [
    "A = torch.randn(25, 25, 3)"
   ]
  },
  {
   "cell_type": "code",
   "execution_count": 11,
   "id": "b0d7b162-6188-42f5-bd6c-3fe8b26a02f8",
   "metadata": {},
   "outputs": [],
   "source": [
    "A_r = A.repeat(repeats = (1,1,3))"
   ]
  },
  {
   "cell_type": "code",
   "execution_count": 14,
   "id": "958d17b7-f31e-474e-82c9-10c273fd7bbd",
   "metadata": {},
   "outputs": [
    {
     "data": {
      "text/plain": [
       "tensor([[[False, False, False],\n",
       "         [False, False, False],\n",
       "         [False, False, False],\n",
       "         ...,\n",
       "         [False, False, False],\n",
       "         [False, False, False],\n",
       "         [False, False, False]],\n",
       "\n",
       "        [[False, False, False],\n",
       "         [False, False, False],\n",
       "         [False, False, False],\n",
       "         ...,\n",
       "         [False, False, False],\n",
       "         [False, False, False],\n",
       "         [False, False, False]],\n",
       "\n",
       "        [[False, False, False],\n",
       "         [False, False, False],\n",
       "         [False, False, False],\n",
       "         ...,\n",
       "         [False, False, False],\n",
       "         [False, False, False],\n",
       "         [False, False, False]],\n",
       "\n",
       "        ...,\n",
       "\n",
       "        [[False, False, False],\n",
       "         [False, False, False],\n",
       "         [False, False, False],\n",
       "         ...,\n",
       "         [False, False, False],\n",
       "         [False, False, False],\n",
       "         [False, False, False]],\n",
       "\n",
       "        [[False, False, False],\n",
       "         [False, False, False],\n",
       "         [False, False, False],\n",
       "         ...,\n",
       "         [False, False, False],\n",
       "         [False, False, False],\n",
       "         [False, False, False]],\n",
       "\n",
       "        [[False, False, False],\n",
       "         [False, False, False],\n",
       "         [False, False, False],\n",
       "         ...,\n",
       "         [False, False, False],\n",
       "         [False, False, False],\n",
       "         [False, False, False]]])"
      ]
     },
     "execution_count": 14,
     "metadata": {},
     "output_type": "execute_result"
    }
   ],
   "source": [
    "A_r[:,:,1:3] == A"
   ]
  },
  {
   "cell_type": "code",
   "execution_count": 17,
   "id": "2796de56-8f9d-45db-a414-685b82116a9d",
   "metadata": {},
   "outputs": [
    {
     "data": {
      "text/plain": [
       "torch.Size([25, 25, 3])"
      ]
     },
     "execution_count": 17,
     "metadata": {},
     "output_type": "execute_result"
    }
   ],
   "source": [
    "A_e = A.expand(25,-1,-1)\n",
    "A_e.shape"
   ]
  },
  {
   "cell_type": "code",
   "execution_count": 61,
   "id": "4e9c1d63-bbb9-49dd-9d08-27cd46dbcc52",
   "metadata": {},
   "outputs": [],
   "source": [
    "from torch import nn\n",
    "import math\n",
    "from einops import rearrange, repeat\n",
    "class SAM(nn.Module):\n",
    "    def __init__(self, in_channels):\n",
    "\n",
    "        super(SAM,self).__init__()\n",
    "\n",
    "        self.rate = nn.Linear(25, 1)\n",
    "        self.sigmoid =  nn.Sigmoid()\n",
    "        \n",
    "\n",
    "    def forward(self,x):\n",
    "        x = rearrange(x, 'B V C -> B C V')\n",
    "        out=self.rate(x)\n",
    "        out=self.sigmoid(out)\n",
    "        out=out.view(x.size(0),x.size(1),1)\n",
    "        y = rearrange(out * x, 'B C V -> B V C')\n",
    "        return y"
   ]
  },
  {
   "cell_type": "code",
   "execution_count": 62,
   "id": "ee2398b5-70ba-4eaf-ac9a-7adeceabb624",
   "metadata": {},
   "outputs": [],
   "source": [
    "s = SAM(12)"
   ]
  },
  {
   "cell_type": "code",
   "execution_count": 63,
   "id": "48f1da8b-1e06-4493-8170-92e06d110bfd",
   "metadata": {},
   "outputs": [],
   "source": [
    "x = torch.randn(256, 25, 12)"
   ]
  },
  {
   "cell_type": "code",
   "execution_count": 64,
   "id": "f3d947ee-b203-42ae-b1f8-8275063357b9",
   "metadata": {},
   "outputs": [
    {
     "name": "stdout",
     "output_type": "stream",
     "text": [
      "torch.Size([256, 12, 1])\n",
      "torch.Size([256, 12, 1])\n"
     ]
    },
    {
     "data": {
      "text/plain": [
       "torch.Size([256, 25, 12])"
      ]
     },
     "execution_count": 64,
     "metadata": {},
     "output_type": "execute_result"
    }
   ],
   "source": [
    "s(x).shape"
   ]
  },
  {
   "cell_type": "code",
   "execution_count": null,
   "id": "f5aae729-5654-457d-943a-b2354337767b",
   "metadata": {},
   "outputs": [],
   "source": []
  },
  {
   "cell_type": "code",
   "execution_count": null,
   "id": "2591bd0e-78d5-4272-8a26-7b4525a2aa2f",
   "metadata": {},
   "outputs": [],
   "source": []
  }
 ],
 "metadata": {
  "kernelspec": {
   "display_name": "Python 3 (ipykernel)",
   "language": "python",
   "name": "python3"
  },
  "language_info": {
   "codemirror_mode": {
    "name": "ipython",
    "version": 3
   },
   "file_extension": ".py",
   "mimetype": "text/x-python",
   "name": "python",
   "nbconvert_exporter": "python",
   "pygments_lexer": "ipython3",
   "version": "3.8.10"
  }
 },
 "nbformat": 4,
 "nbformat_minor": 5
}
